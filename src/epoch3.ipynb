{
 "cells": [
  {
   "cell_type": "code",
   "execution_count": 15,
   "metadata": {},
   "outputs": [],
   "source": [
    "import torch\n",
    "from torch.utils.data import Dataset, DataLoader\n",
    "from transformers import BertTokenizer, BertModel, BertForSequenceClassification\n",
    "from torch import nn, optim\n",
    "from sklearn.model_selection import train_test_split\n",
    "import pandas as pd\n",
    "from sklearn.preprocessing import LabelEncoder"
   ]
  },
  {
   "cell_type": "code",
   "execution_count": 16,
   "metadata": {},
   "outputs": [],
   "source": [
    "df = pd.read_csv('../data/data.csv')\n",
    "df['input'] = df['plain_text'] + \" \" + df['encrypted_text']  # 平文と暗号文を結合\n",
    "df['output'] = df['key']  # 出力は鍵"
   ]
  },
  {
   "cell_type": "code",
   "execution_count": 17,
   "metadata": {},
   "outputs": [],
   "source": [
    "# ラベルエンコーダーの作成\n",
    "label_encoder = LabelEncoder()\n",
    "df['key_encoded'] = label_encoder.fit_transform(df['key'])"
   ]
  },
  {
   "cell_type": "code",
   "execution_count": 27,
   "metadata": {},
   "outputs": [],
   "source": [
    "class EncryptionDataset(Dataset):\n",
    "    def __init__(self, texts, labels, tokenizer, max_len):\n",
    "        self.texts = texts\n",
    "        self.labels = labels\n",
    "        self.tokenizer = tokenizer\n",
    "        self.max_len = max_len\n",
    "\n",
    "    def __len__(self):\n",
    "        return len(self.texts)\n",
    "\n",
    "    def __getitem__(self, item):\n",
    "        text = str(self.texts[item])\n",
    "        label = self.labels[item]\n",
    "\n",
    "        encoding = self.tokenizer.encode_plus(\n",
    "            text,\n",
    "            add_special_tokens=True,\n",
    "            max_length=self.max_len,\n",
    "            return_token_type_ids=False,\n",
    "            padding='max_length',\n",
    "            return_attention_mask=True,\n",
    "            return_tensors='pt',\n",
    "        )\n",
    "\n",
    "        return {\n",
    "            'text': text,\n",
    "            'input_ids': encoding['input_ids'].flatten(),\n",
    "            'attention_mask': encoding['attention_mask'].flatten(),\n",
    "            'labels': torch.tensor(label, dtype=torch.long)\n",
    "        }\n"
   ]
  },
  {
   "cell_type": "code",
   "execution_count": 28,
   "metadata": {},
   "outputs": [],
   "source": [
    "# モデルの定義\n",
    "class EncryptionModel(nn.Module):\n",
    "    def __init__(self, n_classes):\n",
    "        super(EncryptionModel, self).__init__()\n",
    "        self.bert = BertModel.from_pretrained('bert-base-uncased')\n",
    "        self.drop = nn.Dropout(p=0.3)\n",
    "        self.out = nn.Linear(self.bert.config.hidden_size, n_classes)\n",
    "\n",
    "    def forward(self, input_ids, attention_mask):\n",
    "        _, pooled_output = self.bert(\n",
    "            input_ids=input_ids,\n",
    "            attention_mask=attention_mask,\n",
    "            return_dict=False\n",
    "        )\n",
    "        output = self.drop(pooled_output)\n",
    "        return self.out(output)\n",
    "\n",
    "# トークナイザーとデータセットの準備\n",
    "tokenizer = BertTokenizer.from_pretrained('bert-base-uncased')\n",
    "max_len = 128\n",
    "\n",
    "train_df, test_df = train_test_split(df, test_size=0.2)\n",
    "train_texts = (train_df['plain_text'] + \"[SEP]\" + train_df['encrypted_text']).tolist()\n",
    "train_labels = train_df['key_encoded'].tolist()\n",
    "test_texts = (test_df['plain_text'] + \"[SEP]\" + test_df['encrypted_text']).tolist()\n",
    "test_labels = test_df['key_encoded'].tolist()\n",
    "\n",
    "train_dataset = EncryptionDataset(train_texts, train_labels, tokenizer, max_len)\n",
    "test_dataset = EncryptionDataset(test_texts, test_labels, tokenizer, max_len)\n",
    "train_loader = DataLoader(train_dataset, batch_size=16)\n",
    "test_loader = DataLoader(test_dataset, batch_size=16)\n"
   ]
  },
  {
   "cell_type": "code",
   "execution_count": 29,
   "metadata": {},
   "outputs": [
    {
     "name": "stdout",
     "output_type": "stream",
     "text": [
      "Epoch 1/3 completed.\n",
      "Epoch 2/3 completed.\n",
      "Epoch 3/3 completed.\n"
     ]
    }
   ],
   "source": [
    "# モデルのインスタンス化\n",
    "model = EncryptionModel(n_classes=len(label_encoder.classes_))\n",
    "device = torch.device(\"cuda\" if torch.cuda.is_available() else \"cpu\")\n",
    "model.to(device)\n",
    "\n",
    "# 損失関数とオプティマイザ\n",
    "criterion = nn.CrossEntropyLoss().to(device)\n",
    "optimizer = optim.Adam(model.parameters(), lr=2e-5)\n",
    "\n",
    "# トレーニングループ\n",
    "num_epochs = 3\n",
    "for epoch in range(num_epochs):\n",
    "    model.train()\n",
    "    for batch in train_loader:\n",
    "        input_ids = batch['input_ids'].to(device)\n",
    "        attention_mask = batch['attention_mask'].to(device)\n",
    "        labels = batch['labels'].to(device)\n",
    "\n",
    "        optimizer.zero_grad()\n",
    "        outputs = model(input_ids, attention_mask)\n",
    "        loss = criterion(outputs, labels)\n",
    "        loss.backward()\n",
    "        optimizer.step()\n",
    "    \n",
    "    print(f'Epoch {epoch + 1}/{num_epochs} completed.')\n"
   ]
  },
  {
   "cell_type": "code",
   "execution_count": 30,
   "metadata": {},
   "outputs": [
    {
     "name": "stdout",
     "output_type": "stream",
     "text": [
      "Test Accuracy: 1.0\n"
     ]
    }
   ],
   "source": [
    "# 評価関数\n",
    "def evaluate(model, data_loader):\n",
    "    model.eval()\n",
    "    correct_predictions = 0\n",
    "\n",
    "    with torch.no_grad():\n",
    "        for batch in data_loader:\n",
    "            input_ids = batch['input_ids'].to(device)\n",
    "            attention_mask = batch['attention_mask'].to(device)\n",
    "            labels = batch['labels'].to(device)\n",
    "\n",
    "            outputs = model(input_ids, attention_mask)\n",
    "            _, preds = torch.max(outputs, dim=1)\n",
    "            correct_predictions += torch.sum(preds == labels)\n",
    "\n",
    "    return correct_predictions.double() / len(data_loader.dataset)\n",
    "\n",
    "# モデルの評価\n",
    "test_accuracy = evaluate(model, test_loader)\n",
    "print(f'Test Accuracy: {test_accuracy.item()}')\n"
   ]
  },
  {
   "cell_type": "code",
   "execution_count": 32,
   "metadata": {},
   "outputs": [
    {
     "data": {
      "text/plain": [
       "['label_encoder.joblib']"
      ]
     },
     "execution_count": 32,
     "metadata": {},
     "output_type": "execute_result"
    }
   ],
   "source": [
    "# モデルの状態辞書を保存\n",
    "torch.save(model.state_dict(), 'encryption_model.pth')\n",
    "\n",
    "# ラベルエンコーダーも保存（後で予測時に必要）\n",
    "import joblib\n",
    "joblib.dump(label_encoder, 'label_encoder.joblib')\n"
   ]
  },
  {
   "cell_type": "code",
   "execution_count": 34,
   "metadata": {},
   "outputs": [
    {
     "name": "stdout",
     "output_type": "stream",
     "text": [
      "bcd0b0b1580b3e23786af6f0dfdc0097\n",
      "bcd0b0b1580b3e23786af6f0dfdc0097\n"
     ]
    }
   ],
   "source": [
    "# 予測\n",
    "def predict(text, model, tokenizer, label_encoder, max_len):\n",
    "    model.eval()\n",
    "    encoding = tokenizer.encode_plus(\n",
    "        text,\n",
    "        add_special_tokens=True,\n",
    "        max_length=max_len,\n",
    "        return_token_type_ids=False,\n",
    "        padding='max_length',\n",
    "        return_attention_mask=True,\n",
    "        return_tensors='pt',\n",
    "    )\n",
    "\n",
    "    input_ids = encoding['input_ids'].to(device)\n",
    "    attention_mask = encoding['attention_mask'].to(device)\n",
    "    outputs = model(input_ids, attention_mask)\n",
    "    _, preds = torch.max(outputs, dim=1)\n",
    "\n",
    "    return label_encoder.inverse_transform(preds.cpu().numpy())[0]\n",
    "\n",
    "text = \"hello\"\n",
    "encrypted_text = \"hfnos\"\n",
    "predicted_key = predict(text + \"[SEP]\" + encrypted_text, model, tokenizer, label_encoder, max_len)\n",
    "print(predicted_key)\n",
    "\n",
    "# モデルの読み込み\n",
    "model = EncryptionModel(n_classes=len(label_encoder.classes_))\n",
    "model.load_state_dict(torch.load('encryption_model.pth'))\n",
    "model.to(device)\n",
    "\n",
    "# ラベルエンコーダーの読み込み\n",
    "label_encoder = joblib.load('label_encoder.joblib')\n",
    "\n",
    "# 予測\n",
    "predicted_key = predict(text + \"[SEP]\" + encrypted_text, model, tokenizer, label_encoder, max_len)\n",
    "print(predicted_key)\n"
   ]
  },
  {
   "cell_type": "code",
   "execution_count": 82,
   "metadata": {},
   "outputs": [
    {
     "name": "stdout",
     "output_type": "stream",
     "text": [
      "dbf84bc672834fbccbdd0d3614445824 6bee34d8c9e50acac8620282263ac658\n",
      "key:  61dc9098e95b8c4511996769c991b572\n",
      "predicted_key:  6ed42cc64ec6fc29c0d839dad713467b\n",
      "False\n"
     ]
    }
   ],
   "source": [
    "from Crypto.Cipher import AES\n",
    "from Crypto.Random import get_random_bytes\n",
    "import base64\n",
    "\n",
    "# AES CBCモードで暗号化\n",
    "plain_text = get_random_bytes(16)  # 16 bytes = 128 bits\n",
    "key = get_random_bytes(16)\n",
    "cipher = AES.new(key, AES.MODE_CBC)\n",
    "encrypted_text = cipher.encrypt(plain_text)\n",
    "print(plain_text.hex(), encrypted_text.hex())\n",
    "print(\"key: \", key.hex())\n",
    "print(\"predicted_key: \", predicted_key)\n",
    "print(predicted_key == base64.b64encode(key).decode(\"utf-8\"))"
   ]
  }
 ],
 "metadata": {
  "kernelspec": {
   "display_name": ".venv",
   "language": "python",
   "name": "python3"
  },
  "language_info": {
   "codemirror_mode": {
    "name": "ipython",
    "version": 3
   },
   "file_extension": ".py",
   "mimetype": "text/x-python",
   "name": "python",
   "nbconvert_exporter": "python",
   "pygments_lexer": "ipython3",
   "version": "3.10.12"
  }
 },
 "nbformat": 4,
 "nbformat_minor": 2
}
